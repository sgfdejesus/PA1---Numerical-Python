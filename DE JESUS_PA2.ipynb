{
 "cells": [
  {
   "cell_type": "markdown",
   "id": "98f2e2cf-c197-4561-8bd0-3a85963f9721",
   "metadata": {},
   "source": [
    "# NORMALIZATION PROBLEM"
   ]
  },
  {
   "cell_type": "code",
   "execution_count": 37,
   "id": "90e9162f-8d71-4a06-b873-06603b40bb0d",
   "metadata": {},
   "outputs": [
    {
     "name": "stdout",
     "output_type": "stream",
     "text": [
      "Original array:\n",
      " [[0.68221339 0.24348162 0.48906769 0.68280209 0.11327134]\n",
      " [0.15446677 0.59886454 0.43724193 0.48070557 0.45950388]\n",
      " [0.99099283 0.25129537 0.32829676 0.96337087 0.77079939]\n",
      " [0.23304704 0.56082799 0.92315525 0.93301181 0.10253061]\n",
      " [0.65951208 0.8886429  0.58069936 0.86500232 0.53988437]]\n",
      "\n",
      "Normalized array:\n",
      " [[ 0.45634858 -1.14657528 -0.24931689  0.45849941 -1.62230368]\n",
      " [-1.47179456  0.15183024 -0.43866434 -0.27986822 -0.35732944]\n",
      " [ 1.58448644 -1.11802746 -0.83669982  1.48356854  0.78000101]\n",
      " [-1.18469845  0.01286221  1.33663918  1.37265051 -1.66154539]\n",
      " [ 0.37340842  1.21054694  0.08546304  1.12417514 -0.06365613]]\n"
     ]
    }
   ],
   "source": [
    "import numpy as np\n",
    "\n",
    "#Create a random 5x5 ndarray\n",
    "X = np.random.rand(5, 5)\n",
    "\n",
    "#Calculate the mean and standard deviation of the array\n",
    "mean_X = X.mean()\n",
    "std_X = X.std()\n",
    "\n",
    "#Normalize the array using the formula Z = (X - mean) / std\n",
    "X_normalized = (X - mean_X) / std_X\n",
    "\n",
    "#Save the normalized array to a file\n",
    "np.save('X_normalized.npy', X_normalized)\n",
    "\n",
    "#Print the original and normalized arrays\n",
    "print(\"Original array:\\n\", X)\n",
    "print(\"\\nNormalized array:\\n\", X_normalized)\n"
   ]
  },
  {
   "cell_type": "markdown",
   "id": "f3feb59e-dd57-4fdb-b072-0233d71ec5a2",
   "metadata": {},
   "source": [
    "# DIVISIBLE BY 3 PROBLEM"
   ]
  },
  {
   "cell_type": "code",
   "execution_count": 19,
   "id": "0aa08e51-c336-4e9c-b803-e0cb247c8bb3",
   "metadata": {},
   "outputs": [
    {
     "name": "stdout",
     "output_type": "stream",
     "text": [
      "10x10 Array A:\n",
      " [[    1     4     9    16    25    36    49    64    81   100]\n",
      " [  121   144   169   196   225   256   289   324   361   400]\n",
      " [  441   484   529   576   625   676   729   784   841   900]\n",
      " [  961  1024  1089  1156  1225  1296  1369  1444  1521  1600]\n",
      " [ 1681  1764  1849  1936  2025  2116  2209  2304  2401  2500]\n",
      " [ 2601  2704  2809  2916  3025  3136  3249  3364  3481  3600]\n",
      " [ 3721  3844  3969  4096  4225  4356  4489  4624  4761  4900]\n",
      " [ 5041  5184  5329  5476  5625  5776  5929  6084  6241  6400]\n",
      " [ 6561  6724  6889  7056  7225  7396  7569  7744  7921  8100]\n",
      " [ 8281  8464  8649  8836  9025  9216  9409  9604  9801 10000]]\n",
      "\n",
      "Elements divisible by 3:\n",
      " [   9   36   81  144  225  324  441  576  729  900 1089 1296 1521 1764\n",
      " 2025 2304 2601 2916 3249 3600 3969 4356 4761 5184 5625 6084 6561 7056\n",
      " 7569 8100 8649 9216 9801]\n"
     ]
    }
   ],
   "source": [
    "import numpy as np\n",
    "\n",
    "#Create an array with the first 100 positive integers\n",
    "integers = np.arange(1, 101)\n",
    "\n",
    "#Square each element to create the 10x10 array\n",
    "A = integers ** 2\n",
    "#Reshape to 10x10 ndarray\n",
    "A = A.reshape(10, 10)\n",
    "\n",
    "#Determine the elements divisible by 3\n",
    "divisible_by_3 = A[A % 3 == 0]\n",
    "\n",
    "#Save the result to a file\n",
    "np.save('div_by_3.npy', divisible_by_3)\n",
    "\n",
    "#Print the array and the elements divisible by 3\n",
    "print(\"10x10 Array A:\\n\", A)\n",
    "print(\"\\nElements divisible by 3:\\n\", divisible_by_3)"
   ]
  },
  {
   "cell_type": "code",
   "execution_count": null,
   "id": "25ee6f8e-0c76-4366-bf32-4b22d483042c",
   "metadata": {},
   "outputs": [],
   "source": []
  }
 ],
 "metadata": {
  "kernelspec": {
   "display_name": "Python 3 (ipykernel)",
   "language": "python",
   "name": "python3"
  },
  "language_info": {
   "codemirror_mode": {
    "name": "ipython",
    "version": 3
   },
   "file_extension": ".py",
   "mimetype": "text/x-python",
   "name": "python",
   "nbconvert_exporter": "python",
   "pygments_lexer": "ipython3",
   "version": "3.12.4"
  }
 },
 "nbformat": 4,
 "nbformat_minor": 5
}
